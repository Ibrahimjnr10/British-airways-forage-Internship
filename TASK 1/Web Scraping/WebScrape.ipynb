{
 "cells": [
  {
   "cell_type": "markdown",
   "metadata": {},
   "source": [
    "# WebScraping using request and BeautifulSoup"
   ]
  },
  {
   "cell_type": "markdown",
   "metadata": {},
   "source": []
  },
  {
   "cell_type": "code",
   "execution_count": 1,
   "metadata": {},
   "outputs": [],
   "source": [
    "# Importing Libraries \n",
    "from bs4 import BeautifulSoup\n",
    "import requests\n",
    "import pandas as pd"
   ]
  },
  {
   "cell_type": "code",
   "execution_count": 2,
   "metadata": {},
   "outputs": [],
   "source": [
    "# Requesting all page\n",
    "\n",
    "all_reviews = []\n",
    "\n",
    "for i in range(40):\n",
    "    url = f'https://www.airlinequality.com/airline-reviews/british-airways/page/{i}/?sortby=post_date%3ADesc&pagesize=100'\n",
    "    r = requests.get(url)\n",
    "    flight_details = r.text\n",
    "    html = BeautifulSoup(flight_details, 'html.parser') \n",
    "    all_reviews.append(html)\n",
    "\n",
    "\n"
   ]
  },
  {
   "cell_type": "code",
   "execution_count": 3,
   "metadata": {},
   "outputs": [
    {
     "name": "stdout",
     "output_type": "stream",
     "text": [
      "3921\n"
     ]
    }
   ],
   "source": [
    "# Creating prototype for function\n",
    "header_prototype = []\n",
    "for doc in all_reviews:\n",
    "    header_tag = doc.find_all('h2',class_='text_header')\n",
    "    for head in header_tag:\n",
    "        header_prototype.append(head.text)\n",
    "\n",
    "# Printing accumulated result\n",
    "print('we have',len(header_prototype),'data to be scraped')\n"
   ]
  },
  {
   "cell_type": "code",
   "execution_count": 4,
   "metadata": {},
   "outputs": [],
   "source": [
    "# Defining function to extract tags \n",
    "def find(container, tag, cls=None):\n",
    "    \"\"\"\n",
    "    Extracts and returns all instances of a specified HTML tag from a list of documents.\n",
    "\n",
    "    This function searches through each document in the provided container for \n",
    "    the specified HTML tag. If a class is provided, it will filter the tags by the \n",
    "    given class. The results are accumulated in a list and returned.\n",
    "\n",
    "    Parameters:\n",
    "    container (list): A list of BeautifulSoup objects representing the documents to search through.\n",
    "    tag (str): The HTML tag to search for in the documents.\n",
    "    cls (str, optional): The class attribute to filter the tags by. Defaults to None.\n",
    "\n",
    "    Returns:\n",
    "    list: A list of all found tags that match the specified tag and class.\n",
    "    \"\"\"\n",
    "    output = []\n",
    "    for doc in container:\n",
    "        if cls:\n",
    "            tag_holder = doc.find_all(tag, class_ = cls)\n",
    "            \n",
    "        else:\n",
    "            tag_holder = doc.find_all(tag)\n",
    "        output.extend(tag_holder)    \n",
    "    return output\n",
    "\n",
    "\n",
    "# Defining function to extract content of tags \n",
    "def extract(container, tag, cls=None):\n",
    "    \"\"\"\n",
    "    Extracts and returns the text content of a specified HTML tag from a list of documents.\n",
    "\n",
    "    The text content of each found tag is stripped of leading and trailing whitespace and accumulated in a list \n",
    "    which is then returned.\n",
    "\n",
    "    Parameters:\n",
    "    container (list): A list of BeautifulSoup objects representing the documents to search through.\n",
    "    tag (str): The HTML tag to search for in the documents.\n",
    "    cls (str, optional): The class attribute to filter the tags by. Defaults to None.\n",
    "\n",
    "    Returns:\n",
    "    list: A list of strings representing the text content of all found tags that match the specified tag and class.\n",
    "    Example:\n",
    "    >>> from bs4 import BeautifulSoup\n",
    "    >>> html_doc = \"<html><body><div class='content'> Example </div></body></html>\"\n",
    "    >>> soup = BeautifulSoup(html_doc, 'html.parser')\n",
    "    >>> extract([soup], 'div', 'content')\n",
    "    ['Example']\n",
    "    \"\"\"\n",
    "\n",
    "    tag_holder1 = find(container, tag, cls)\n",
    "    output = [item.text.strip() for item in tag_holder1]\n",
    "    return output\n"
   ]
  },
  {
   "cell_type": "markdown",
   "metadata": {},
   "source": [
    "Following the 'DRY' and 'DOT' principle"
   ]
  },
  {
   "cell_type": "code",
   "execution_count": 5,
   "metadata": {},
   "outputs": [
    {
     "name": "stdout",
     "output_type": "stream",
     "text": [
      "<table class=\"review-ratings\">\n",
      "<tr>\n",
      "<td class=\"review-rating-header food-beverages\">Food &amp; Beverages</td>\n",
      "<td class=\"review-rating-stars stars\">\n",
      "<span class=\"star fill\">1</span><span class=\"star fill\">2</span><span class=\"star fill\">3</span><span class=\"star\">4</span><span class=\"star\">5</span> </td>\n",
      "</tr>\n",
      "<tr>\n",
      "<td class=\"review-rating-header inflight-entertainment\">Inflight Entertainment</td>\n",
      "<td class=\"review-rating-stars stars\">\n",
      "<span class=\"star fill\">1</span><span class=\"star fill\">2</span><span class=\"star fill\">3</span><span class=\"star\">4</span><span class=\"star\">5</span> </td>\n",
      "</tr>\n",
      "<tr>\n",
      "<td class=\"review-rating-header seat-comfort\">Seat Comfort</td>\n",
      "<td class=\"review-rating-stars stars\">\n",
      "<span class=\"star fill\">1</span><span class=\"star fill\">2</span><span class=\"star fill\">3</span><span class=\"star\">4</span><span class=\"star\">5</span> </td>\n",
      "</tr>\n",
      "<tr>\n",
      "<td class=\"review-rating-header staff-service\">Staff Service</td>\n",
      "<td class=\"review-rating-stars stars\">\n",
      "<span class=\"star fill\">1</span><span class=\"star fill\">2</span><span class=\"star fill\">3</span><span class=\"star\">4</span><span class=\"star\">5</span> </td>\n",
      "</tr>\n",
      "<tr>\n",
      "<td class=\"review-rating-header value-for-money\">Value for Money</td>\n",
      "<td class=\"review-rating-stars stars\">\n",
      "<span class=\"star fill\">1</span><span class=\"star fill\">2</span><span class=\"star fill\">3</span><span class=\"star\">4</span><span class=\"star\">5</span> </td>\n",
      "</tr>\n",
      "</table>\n"
     ]
    }
   ],
   "source": [
    "# Testing function\n",
    "result = find(all_reviews,'table','review-ratings')\n",
    "print(result[0])"
   ]
  },
  {
   "cell_type": "code",
   "execution_count": 6,
   "metadata": {},
   "outputs": [
    {
     "name": "stdout",
     "output_type": "stream",
     "text": [
      "3921\n"
     ]
    }
   ],
   "source": [
    "# Extracting header and subheader\n",
    "header = extract(all_reviews,'h2','text_header')\n",
    "sub_header = extract(all_reviews,'h3', \"text_sub_header userStatusWrapper\")\n",
    "sub_header = [item.replace('\\n\\n\\n\\nN','') for item in sub_header]\n",
    "\n",
    "print(len(header))"
   ]
  },
  {
   "cell_type": "code",
   "execution_count": 7,
   "metadata": {},
   "outputs": [
    {
     "name": "stdout",
     "output_type": "stream",
     "text": [
      "3921\n",
      "5th July 2024 \t United Kingdom\n"
     ]
    }
   ],
   "source": [
    "# Importing library\n",
    "import numpy as np\n",
    "import re\n",
    "# Specifying pattern\n",
    "date_pattern = r'\\d{1,2}(st|nd|rd|th) [a-zA-Z]+ \\d{4}'\n",
    "location_pattern = r'\\((.*?)\\)'\n",
    "# Extracting date and location from subheading\n",
    "date = [re.search(date_pattern, text).group(0) if re.search(date_pattern, text) else np.nan for text in sub_header]\n",
    "location = [re.search(location_pattern, text).group(1) if re.search(location_pattern, text) else np.nan for text in sub_header]\n",
    "# Printing output\n",
    "print(len(location))\n",
    "print(date[0], '\\t', location[0])\n"
   ]
  },
  {
   "cell_type": "markdown",
   "metadata": {},
   "source": [
    "Using regex pattern to extract desired information"
   ]
  },
  {
   "cell_type": "code",
   "execution_count": 8,
   "metadata": {},
   "outputs": [
    {
     "name": "stdout",
     "output_type": "stream",
     "text": [
      "Not Verified |   Had to cancel my flight months in advance due to a change of schedule. I was flying with American Airlines and British Airways. Selected seats and when I attempted to get a refund on the selected seats, AA refunded me with no issue when BA refused despite both companies having similar policies. Avoid them, fly with anyone else. Customer service is a joke, taking over 2 weeks to respond to my email and giving me no further justification than what I was told on the phone.\n"
     ]
    }
   ],
   "source": [
    "# Extracting review\n",
    "review = extract(all_reviews,'div','text_content')\n",
    "print(review[1])"
   ]
  },
  {
   "cell_type": "code",
   "execution_count": 9,
   "metadata": {},
   "outputs": [
    {
     "name": "stdout",
     "output_type": "stream",
     "text": [
      "3921\n",
      "['Couple Leisure', 'Economy Class', 'London to Corfu', 'September 2023', 'no']\n"
     ]
    }
   ],
   "source": [
    "flight_details = []\n",
    "for doc in all_reviews:\n",
    "    table_tag = doc.find_all('table', class_='review-ratings')\n",
    "    for table in table_tag:\n",
    "        value_tags = table.find_all('td', class_='review-value')\n",
    "        value = [val.text.strip() for val in value_tags]\n",
    "        flight_details.append(value)\n",
    "\n",
    "\n",
    "# Define the indices to delete\n",
    "indices_to_delete = np.arange(0, len(flight_details), 101)\n",
    "\n",
    "# Subsetting elements from review_ratings using indices_to_delete\n",
    "flight_details = [flight_details[i] for i in range(len(flight_details)) if i not in indices_to_delete]\n",
    "print(len(flight_details))\n",
    "        \n",
    "#del(flight_details[0])\n",
    "print(flight_details[0])\n"
   ]
  },
  {
   "cell_type": "code",
   "execution_count": 10,
   "metadata": {},
   "outputs": [
    {
     "name": "stdout",
     "output_type": "stream",
     "text": [
      "Aircraft:  None \n",
      " Travellers_type:  Couple Leisure \n",
      " Seat_type:  Economy Class \n",
      " Route:  London to Corfu \n",
      " Date_flown:  September 2023 \n",
      " Recommendation:  no\n",
      "3921\n"
     ]
    }
   ],
   "source": [
    "Aircraft = []\n",
    "Travellers_type = []\n",
    "Seat_type = []\n",
    "Route = []\n",
    "Date_flown = []\n",
    "Recommended = []\n",
    "for detail in flight_details:\n",
    "    if len(detail) == 6:\n",
    "        Aircraft.append(detail[0])\n",
    "        Travellers_type.append(detail[1])\n",
    "        Seat_type.append(detail[2])\n",
    "        Route.append(detail[3])\n",
    "        Date_flown.append(detail[4])\n",
    "        Recommended.append(detail[-1])\n",
    "    elif len(detail) == 5:\n",
    "        Aircraft.append(None)\n",
    "        Travellers_type.append(detail[0])\n",
    "        Seat_type.append(detail[1])\n",
    "        Route.append(detail[2])\n",
    "        Date_flown.append(detail[3])\n",
    "        Recommended.append(detail[-1])\n",
    "    elif len(detail) == 4:\n",
    "        Aircraft.append(None)\n",
    "        Travellers_type.append(detail[0])\n",
    "        Seat_type.append(detail[1])\n",
    "        Route.append(detail[2])\n",
    "        Date_flown.append(None)\n",
    "        Recommended.append(detail[-1])\n",
    "    elif len(detail) == 3:\n",
    "        Aircraft.append(None)\n",
    "        Travellers_type.append(detail[0])\n",
    "        Seat_type.append(detail[1])\n",
    "        Route.append(None)\n",
    "        Date_flown.append(None)\n",
    "        Recommended.append(detail[-1])\n",
    "    elif len(detail) == 2:\n",
    "        Aircraft.append(None)\n",
    "        Travellers_type.append(None)\n",
    "        Seat_type.append(detail[0])\n",
    "        Route.append(None)\n",
    "        Date_flown.append(None)\n",
    "        Recommended.append(detail[-1])\n",
    "    elif len(detail) == 1:\n",
    "        Aircraft.append(None)\n",
    "        Travellers_type.append(None)\n",
    "        Seat_type.append(None)\n",
    "        Route.append(None)\n",
    "        Date_flown.append(None)\n",
    "        Recommended.append(detail[0])\n",
    "    else:\n",
    "        Aircraft.append(None)\n",
    "        Travellers_type.append(None)\n",
    "        Seat_type.append(None)\n",
    "        Route.append(None)\n",
    "        Date_flown.append(None)\n",
    "        Recommended.append(None)\n",
    "\n",
    "print('Aircraft: ', Aircraft[0], '\\n', 'Travellers_type: ', Travellers_type[0], '\\n', 'Seat_type: ', Seat_type[0], '\\n', 'Route: ', Route[0], '\\n', 'Date_flown: ', Date_flown[0], '\\n', 'Recommendation: ', Recommended[0])\n",
    "print(len(Aircraft))"
   ]
  },
  {
   "cell_type": "code",
   "execution_count": 11,
   "metadata": {},
   "outputs": [
    {
     "name": "stdout",
     "output_type": "stream",
     "text": [
      "3921\n"
     ]
    }
   ],
   "source": [
    "review_ratings = []\n",
    "for doc in all_reviews:\n",
    "    table_tag = doc.find_all('table', class_='review-ratings')\n",
    "    for table in table_tag:\n",
    "        value_tags = table.find_all('td', class_='review-rating-stars stars')\n",
    "        review_values = []\n",
    "        for td in value_tags:\n",
    "            stars = td.find_all('span', class_='star fill')\n",
    "            star_values = [star.text.strip() for star in stars]\n",
    "            review_values.append(star_values)\n",
    "        review_ratings.append(review_values)\n",
    "\n",
    "\n",
    "# Define the indices to delete\n",
    "indices_to_delete = np.arange(0, len(review_ratings), 101)\n",
    "\n",
    "# Subsetting elements from review_ratings using indices_to_delete\n",
    "review_ratings = [review_ratings[i] for i in range(len(review_ratings)) if i not in indices_to_delete]\n",
    "print(len(review_ratings))\n"
   ]
  },
  {
   "cell_type": "code",
   "execution_count": 12,
   "metadata": {},
   "outputs": [
    {
     "name": "stdout",
     "output_type": "stream",
     "text": [
      "Seat Comfort: [1, 1, 1, 4, 2, 3] 3921\n",
      "Staff Service: [1, None, 1, 5, 2, 3] 3921\n",
      "Food & Beverage: [1, None, 1, 3, 1, 3] 3921\n",
      "Ground Service: [1, None, 1, 1, 2, 3] 3921\n",
      "Pricing: [None, None, 1, 3, 2, 1] 3921\n"
     ]
    }
   ],
   "source": [
    "# Importing numpy \n",
    "import numpy as np\n",
    "# Define a helper function to extract max value or return np.nan if the list is empty\n",
    "def get_max_value(star_list, index):\n",
    "    \"\"\"\n",
    "    Returns the maximum integer value from a nested list at a specified index.\n",
    "    If the sublist at the specified index is empty or the index is out of range, the function returns None.\n",
    "\n",
    "    Parameters:\n",
    "    star_list (list of list of str): The nested list from which to extract the maximum value.\n",
    "    index (int): The index of the sublist to search for the maximum value.\n",
    "\n",
    "    Returns:\n",
    "    int or None: The maximum integer value from the sublist at the specified index, or None \n",
    "    if the sublist is empty or the index is out of range.\n",
    "    Example:\n",
    "    >>> star_list = [['1', '2', '3'], ['4', '5', '6'], ['7', '8', '9']]\n",
    "    >>> get_max_value(star_list, 1)\n",
    "    5\n",
    "    >>> get_max_value(star_list, 3)\n",
    "    None\n",
    "    \"\"\"\n",
    "    return max(map(int, star_list[index])) if len(star_list) > index and star_list[index] else None\n",
    "\n",
    "# Use list comprehensions to extract max values\n",
    "seat_comfort = [get_max_value(star, 0) for star in review_ratings]\n",
    "staff_service = [get_max_value(star, 1) for star in review_ratings]\n",
    "food_beverage = [get_max_value(star, 2) for star in review_ratings]\n",
    "ground_service = [get_max_value(star, 3) for star in review_ratings]\n",
    "pricing = [get_max_value(star, 4) for star in review_ratings]\n",
    "\n",
    "# Print results\n",
    "print(\"Seat Comfort:\",seat_comfort[:6], len(seat_comfort))\n",
    "print(\"Staff Service:\",staff_service[:6],len(staff_service))\n",
    "print(\"Food & Beverage:\",food_beverage[:6], len(food_beverage))\n",
    "print(\"Ground Service:\",ground_service[:6], len(ground_service))\n",
    "print(\"Pricing:\",pricing[:6], len(pricing))\n",
    "\n"
   ]
  },
  {
   "cell_type": "code",
   "execution_count": 13,
   "metadata": {},
   "outputs": [
    {
     "name": "stdout",
     "output_type": "stream",
     "text": [
      "3921 3921 3921 3921\n"
     ]
    }
   ],
   "source": [
    "# Confirming data lenght uniformity \n",
    "print(len(header),len(date),len(location),len(review))"
   ]
  },
  {
   "cell_type": "code",
   "execution_count": 16,
   "metadata": {},
   "outputs": [
    {
     "data": {
      "text/html": [
       "<div>\n",
       "<style scoped>\n",
       "    .dataframe tbody tr th:only-of-type {\n",
       "        vertical-align: middle;\n",
       "    }\n",
       "\n",
       "    .dataframe tbody tr th {\n",
       "        vertical-align: top;\n",
       "    }\n",
       "\n",
       "    .dataframe thead th {\n",
       "        text-align: right;\n",
       "    }\n",
       "</style>\n",
       "<table border=\"1\" class=\"dataframe\">\n",
       "  <thead>\n",
       "    <tr style=\"text-align: right;\">\n",
       "      <th></th>\n",
       "      <th>title</th>\n",
       "      <th>date</th>\n",
       "      <th>country</th>\n",
       "      <th>review</th>\n",
       "    </tr>\n",
       "  </thead>\n",
       "  <tbody>\n",
       "    <tr>\n",
       "      <th>0</th>\n",
       "      <td>“customer service was awful”</td>\n",
       "      <td>5th July 2024</td>\n",
       "      <td>United Kingdom</td>\n",
       "      <td>Not Verified | The WORST customer experience! ...</td>\n",
       "    </tr>\n",
       "    <tr>\n",
       "      <th>1</th>\n",
       "      <td>\"over 2 weeks to respond\"</td>\n",
       "      <td>1st July 2024</td>\n",
       "      <td>Canada</td>\n",
       "      <td>Not Verified |   Had to cancel my flight month...</td>\n",
       "    </tr>\n",
       "    <tr>\n",
       "      <th>2</th>\n",
       "      <td>“wholly inadequate customer service”</td>\n",
       "      <td>30th June 2024</td>\n",
       "      <td>United Kingdom</td>\n",
       "      <td>✅ Trip Verified | Flight cancelled with no rea...</td>\n",
       "    </tr>\n",
       "    <tr>\n",
       "      <th>3</th>\n",
       "      <td>“the cabin crew were great”</td>\n",
       "      <td>26th June 2024</td>\n",
       "      <td>United Kingdom</td>\n",
       "      <td>✅ Trip Verified | This is a route I fly regula...</td>\n",
       "    </tr>\n",
       "    <tr>\n",
       "      <th>4</th>\n",
       "      <td>\"cannot recommend BA\"</td>\n",
       "      <td>23rd June 2024</td>\n",
       "      <td>Canada</td>\n",
       "      <td>✅ Trip Verified |  While BA may have made some...</td>\n",
       "    </tr>\n",
       "  </tbody>\n",
       "</table>\n",
       "</div>"
      ],
      "text/plain": [
       "                                  title            date         country  \\\n",
       "0          “customer service was awful”   5th July 2024  United Kingdom   \n",
       "1             \"over 2 weeks to respond\"   1st July 2024          Canada   \n",
       "2  “wholly inadequate customer service”  30th June 2024  United Kingdom   \n",
       "3           “the cabin crew were great”  26th June 2024  United Kingdom   \n",
       "4                 \"cannot recommend BA\"  23rd June 2024          Canada   \n",
       "\n",
       "                                              review  \n",
       "0  Not Verified | The WORST customer experience! ...  \n",
       "1  Not Verified |   Had to cancel my flight month...  \n",
       "2  ✅ Trip Verified | Flight cancelled with no rea...  \n",
       "3  ✅ Trip Verified | This is a route I fly regula...  \n",
       "4  ✅ Trip Verified |  While BA may have made some...  "
      ]
     },
     "metadata": {},
     "output_type": "display_data"
    },
    {
     "data": {
      "text/html": [
       "<div>\n",
       "<style scoped>\n",
       "    .dataframe tbody tr th:only-of-type {\n",
       "        vertical-align: middle;\n",
       "    }\n",
       "\n",
       "    .dataframe tbody tr th {\n",
       "        vertical-align: top;\n",
       "    }\n",
       "\n",
       "    .dataframe thead th {\n",
       "        text-align: right;\n",
       "    }\n",
       "</style>\n",
       "<table border=\"1\" class=\"dataframe\">\n",
       "  <thead>\n",
       "    <tr style=\"text-align: right;\">\n",
       "      <th></th>\n",
       "      <th>aircraft</th>\n",
       "      <th>travellers_type</th>\n",
       "      <th>Seat_type</th>\n",
       "      <th>route</th>\n",
       "      <th>date_flown</th>\n",
       "    </tr>\n",
       "  </thead>\n",
       "  <tbody>\n",
       "    <tr>\n",
       "      <th>0</th>\n",
       "      <td>None</td>\n",
       "      <td>Couple Leisure</td>\n",
       "      <td>Economy Class</td>\n",
       "      <td>London to Corfu</td>\n",
       "      <td>September 2023</td>\n",
       "    </tr>\n",
       "    <tr>\n",
       "      <th>1</th>\n",
       "      <td>None</td>\n",
       "      <td>Solo Leisure</td>\n",
       "      <td>Economy Class</td>\n",
       "      <td>Toronto to London</td>\n",
       "      <td>July 2024</td>\n",
       "    </tr>\n",
       "    <tr>\n",
       "      <th>2</th>\n",
       "      <td>None</td>\n",
       "      <td>Couple Leisure</td>\n",
       "      <td>Economy Class</td>\n",
       "      <td>London Gatwick to Verona</td>\n",
       "      <td>June 2024</td>\n",
       "    </tr>\n",
       "    <tr>\n",
       "      <th>3</th>\n",
       "      <td>A320</td>\n",
       "      <td>Business</td>\n",
       "      <td>Business Class</td>\n",
       "      <td>London Heathrow to Paris CDG</td>\n",
       "      <td>June 2024</td>\n",
       "    </tr>\n",
       "    <tr>\n",
       "      <th>4</th>\n",
       "      <td>A350-1000</td>\n",
       "      <td>Solo Leisure</td>\n",
       "      <td>Economy Class</td>\n",
       "      <td>London Heathrow to Vancouver</td>\n",
       "      <td>June 2024</td>\n",
       "    </tr>\n",
       "  </tbody>\n",
       "</table>\n",
       "</div>"
      ],
      "text/plain": [
       "    aircraft travellers_type       Seat_type                         route  \\\n",
       "0       None  Couple Leisure   Economy Class               London to Corfu   \n",
       "1       None    Solo Leisure   Economy Class             Toronto to London   \n",
       "2       None  Couple Leisure   Economy Class      London Gatwick to Verona   \n",
       "3       A320        Business  Business Class  London Heathrow to Paris CDG   \n",
       "4  A350-1000    Solo Leisure   Economy Class  London Heathrow to Vancouver   \n",
       "\n",
       "       date_flown  \n",
       "0  September 2023  \n",
       "1       July 2024  \n",
       "2       June 2024  \n",
       "3       June 2024  \n",
       "4       June 2024  "
      ]
     },
     "metadata": {},
     "output_type": "display_data"
    },
    {
     "data": {
      "text/html": [
       "<div>\n",
       "<style scoped>\n",
       "    .dataframe tbody tr th:only-of-type {\n",
       "        vertical-align: middle;\n",
       "    }\n",
       "\n",
       "    .dataframe tbody tr th {\n",
       "        vertical-align: top;\n",
       "    }\n",
       "\n",
       "    .dataframe thead th {\n",
       "        text-align: right;\n",
       "    }\n",
       "</style>\n",
       "<table border=\"1\" class=\"dataframe\">\n",
       "  <thead>\n",
       "    <tr style=\"text-align: right;\">\n",
       "      <th></th>\n",
       "      <th>aircraft</th>\n",
       "      <th>date_flown</th>\n",
       "      <th>seat_comfort</th>\n",
       "      <th>staff_service</th>\n",
       "      <th>food_beverage</th>\n",
       "      <th>ground_service</th>\n",
       "      <th>pricing</th>\n",
       "      <th>recommended</th>\n",
       "    </tr>\n",
       "  </thead>\n",
       "  <tbody>\n",
       "    <tr>\n",
       "      <th>0</th>\n",
       "      <td>None</td>\n",
       "      <td>September 2023</td>\n",
       "      <td>1</td>\n",
       "      <td>1.0</td>\n",
       "      <td>1.0</td>\n",
       "      <td>1.0</td>\n",
       "      <td>NaN</td>\n",
       "      <td>no</td>\n",
       "    </tr>\n",
       "    <tr>\n",
       "      <th>1</th>\n",
       "      <td>None</td>\n",
       "      <td>July 2024</td>\n",
       "      <td>1</td>\n",
       "      <td>NaN</td>\n",
       "      <td>NaN</td>\n",
       "      <td>NaN</td>\n",
       "      <td>NaN</td>\n",
       "      <td>no</td>\n",
       "    </tr>\n",
       "    <tr>\n",
       "      <th>2</th>\n",
       "      <td>None</td>\n",
       "      <td>June 2024</td>\n",
       "      <td>1</td>\n",
       "      <td>1.0</td>\n",
       "      <td>1.0</td>\n",
       "      <td>1.0</td>\n",
       "      <td>1.0</td>\n",
       "      <td>no</td>\n",
       "    </tr>\n",
       "    <tr>\n",
       "      <th>3</th>\n",
       "      <td>A320</td>\n",
       "      <td>June 2024</td>\n",
       "      <td>4</td>\n",
       "      <td>5.0</td>\n",
       "      <td>3.0</td>\n",
       "      <td>1.0</td>\n",
       "      <td>3.0</td>\n",
       "      <td>yes</td>\n",
       "    </tr>\n",
       "    <tr>\n",
       "      <th>4</th>\n",
       "      <td>A350-1000</td>\n",
       "      <td>June 2024</td>\n",
       "      <td>2</td>\n",
       "      <td>2.0</td>\n",
       "      <td>1.0</td>\n",
       "      <td>2.0</td>\n",
       "      <td>2.0</td>\n",
       "      <td>no</td>\n",
       "    </tr>\n",
       "  </tbody>\n",
       "</table>\n",
       "</div>"
      ],
      "text/plain": [
       "    aircraft      date_flown  seat_comfort  staff_service  food_beverage  \\\n",
       "0       None  September 2023             1            1.0            1.0   \n",
       "1       None       July 2024             1            NaN            NaN   \n",
       "2       None       June 2024             1            1.0            1.0   \n",
       "3       A320       June 2024             4            5.0            3.0   \n",
       "4  A350-1000       June 2024             2            2.0            1.0   \n",
       "\n",
       "   ground_service  pricing recommended  \n",
       "0             1.0      NaN          no  \n",
       "1             NaN      NaN          no  \n",
       "2             1.0      1.0          no  \n",
       "3             1.0      3.0         yes  \n",
       "4             2.0      2.0          no  "
      ]
     },
     "metadata": {},
     "output_type": "display_data"
    }
   ],
   "source": [
    "# Preparing dictionary of list for Dataframe creation\n",
    "reviews = {'title':header,'date':date,'country':location,'review':review}\n",
    "flight_info = {'aircraft':Aircraft,'travellers_type':Travellers_type,'Seat_type':Seat_type,'route':Route,'date_flown':Date_flown}\n",
    "ratings = {'aircraft':Aircraft,'date_flown':Date_flown,'seat_comfort':seat_comfort,'staff_service':staff_service,'food_beverage':food_beverage,'ground_service':ground_service,'pricing':pricing,'recommended':Recommended}\n",
    "\n",
    "# Creating Dataframes \n",
    "import pandas as pd\n",
    "reviews_df = pd.DataFrame(reviews)\n",
    "flight_info_df = pd.DataFrame(flight_info)\n",
    "ratings_df = pd.DataFrame(ratings)\n",
    "\n",
    "# Displaying datasets\n",
    "display(reviews_df.head(5), flight_info_df.head(), ratings_df.head())"
   ]
  },
  {
   "cell_type": "markdown",
   "metadata": {},
   "source": [
    "Data has been successfully scraped"
   ]
  },
  {
   "cell_type": "code",
   "execution_count": 18,
   "metadata": {},
   "outputs": [],
   "source": [
    "# Saving datasets\n",
    "reviews_df.to_csv('B_Airways_reviews.csv')\n",
    "flight_info_df.to_csv('B_Airways_flight_info.csv')\n",
    "ratings_df.to_csv('B_Airways_ratings.csv')"
   ]
  },
  {
   "cell_type": "markdown",
   "metadata": {},
   "source": [
    "Data now being saved "
   ]
  },
  {
   "cell_type": "markdown",
   "metadata": {},
   "source": [
    "# Dataset Description\n",
    "B_Airways_ratings.csv; Reviewers ratings\n",
    "\n",
    "index: Index column\n",
    "\n",
    "date_flown: Date of the flight\n",
    "staff_service: Rating of the staff service (1-5)\n",
    "food: Rating of the food service (1-5)\n",
    "ground_service: Rating of the ground service (1-5)\n",
    "seat_comfort: Rating of the seat comfort (1-5)\n",
    "value_for_money: Rating of value for money (1-5)\n",
    "recommended: Whether the reviewer recommended the airline (Yes/No)\n",
    "\n",
    "B_Airways_flight_info.csv; Flight details of reviewer\n",
    "\n",
    "index: Index column\n",
    "\n",
    "date_flown: Date of the flight\n",
    "travellers_type: Type of travelers (e.g., Business, Leisure)\n",
    "route: Flight route\n",
    "aircraft: Aircraft type\n",
    "Seat_type: Type of seat (e.g., Economy, Business)\n",
    "\n",
    "reviews.csv: Scraped reviews dataset.\n",
    "\n",
    "index: Index column\n",
    "\n",
    "title: Title of review\n",
    "date: Date of review\n",
    "country: Country of reviewer\n",
    "review: Actual review"
   ]
  },
  {
   "cell_type": "markdown",
   "metadata": {},
   "source": [
    "# Challenges \n",
    "During the data extraction process, we encountered irregularities in the structure of the flight information. The fields for aircraft type, traveller type, seat type, route, and date flown were not consistently populated. This required a dynamic approach to ensure all possible data points were captured accurately.\n"
   ]
  },
  {
   "cell_type": "markdown",
   "metadata": {},
   "source": [
    "# Recommendation\n",
    "To further enhance the web scraping process and the usability of the data, the following steps are recommended:\n",
    "1.\tAutomated Data Cleaning: Implement automated scripts to clean and normalize the data, ensuring consistency and accuracy.\n",
    "2.\tIncremental Scraping: Develop a system to incrementally scrape new reviews, keeping the dataset up-to-date without redundant data collection.\n",
    "3.\tAdvanced Sentiment Analysis: Utilize advanced natural language processing (NLP) techniques to perform in-depth sentiment analysis and topic modeling.\n",
    "4.\tInteractive Dashboards: Create interactive dashboards to visualize the data, making it easier for stakeholders to interpret and act upon the insights."
   ]
  },
  {
   "cell_type": "markdown",
   "metadata": {},
   "source": [
    "# Conclusion\n",
    "This web scraping project has successfully demonstrated the power of data in understanding customer experiences. By addressing the challenges and employing robust methodologies, I have laid the foundation for comprehensive analysis and actionable insights. Future work can build upon this dataset to drive meaningful improvements in the airline industry."
   ]
  }
 ],
 "metadata": {
  "kernelspec": {
   "display_name": "Python 3",
   "language": "python",
   "name": "python3"
  },
  "language_info": {
   "codemirror_mode": {
    "name": "ipython",
    "version": 3
   },
   "file_extension": ".py",
   "mimetype": "text/x-python",
   "name": "python",
   "nbconvert_exporter": "python",
   "pygments_lexer": "ipython3",
   "version": "3.10.8"
  }
 },
 "nbformat": 4,
 "nbformat_minor": 2
}
